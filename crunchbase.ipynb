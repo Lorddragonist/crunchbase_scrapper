{
 "cells": [
  {
   "cell_type": "markdown",
   "metadata": {},
   "source": [
    "# Upwork scraper\n",
    "### This notebook is part of my portfolio to show my skills in python."
   ]
  },
  {
   "cell_type": "markdown",
   "metadata": {},
   "source": [
    "These are the libraries we will use in this notebook"
   ]
  },
  {
   "cell_type": "code",
   "execution_count": 5,
   "metadata": {},
   "outputs": [],
   "source": [
    "import pandas as pd\n",
    "import asyncio\n",
    "from pyppeteer import launch\n",
    "from pyppeteer.errors import NetworkError"
   ]
  },
  {
   "cell_type": "markdown",
   "metadata": {},
   "source": [
    "browser initialization, we will create an instance of this object to open the navigator."
   ]
  },
  {
   "cell_type": "code",
   "execution_count": 6,
   "metadata": {},
   "outputs": [],
   "source": [
    "browser = await launch(headless=False)\n",
    "page = await browser.newPage()"
   ]
  },
  {
   "cell_type": "markdown",
   "metadata": {},
   "source": [
    "first trying to go to our page"
   ]
  },
  {
   "cell_type": "code",
   "execution_count": 7,
   "metadata": {},
   "outputs": [
    {
     "data": {
      "text/plain": [
       "<pyppeteer.network_manager.Response at 0x22ab1c32920>"
      ]
     },
     "execution_count": 7,
     "metadata": {},
     "output_type": "execute_result"
    }
   ],
   "source": [
    "await page.goto('https://www.upwork.com/')"
   ]
  },
  {
   "cell_type": "code",
   "execution_count": 23,
   "metadata": {},
   "outputs": [],
   "source": [
    "try:\n",
    "\n",
    "    data = await page.evaluate(\n",
    "        \"\"\"\n",
    "            async function(){\n",
    "                \n",
    "                console.log('Aqui comienza la magia');\n",
    "                try{\n",
    "                    let data = await fetch(\n",
    "                            'https://www.upwork.com/ab/jobs/search/url?q=web+scraping&per_page=10&sort=recency',\n",
    "                              {\n",
    "                        'headers': {\n",
    "                        'accept': 'application/json, text/plain, */*',\n",
    "                        'x-requested-with': 'XMLHttpRequest'\n",
    "                        },\n",
    "                    'referrer': 'https://www.upwork.com/nx/jobs/search/?q=web%20scraping&sort=recency',\n",
    "                    'body': null,\n",
    "                    'method': 'GET',\n",
    "                    'credentials': 'include'\n",
    "                    });\n",
    "\n",
    "                    data = await data.json();\n",
    "\n",
    "                    data = data.searchResults.jobs;\n",
    "                }catch(e){\n",
    "                    console.log('Error: ' + e);\n",
    "                }\n",
    "            }\n",
    "    \"\"\"\n",
    "    )\n",
    "\n",
    "except Exception as e:\n",
    "    print(e)"
   ]
  },
  {
   "cell_type": "code",
   "execution_count": 8,
   "metadata": {},
   "outputs": [],
   "source": [
    "# await browser.close()"
   ]
  }
 ],
 "metadata": {
  "kernelspec": {
   "display_name": "venv",
   "language": "python",
   "name": "python3"
  },
  "language_info": {
   "codemirror_mode": {
    "name": "ipython",
    "version": 3
   },
   "file_extension": ".py",
   "mimetype": "text/x-python",
   "name": "python",
   "nbconvert_exporter": "python",
   "pygments_lexer": "ipython3",
   "version": "3.10.8"
  },
  "orig_nbformat": 4
 },
 "nbformat": 4,
 "nbformat_minor": 2
}
